{
 "cells": [
  {
   "cell_type": "code",
   "execution_count": 1,
   "metadata": {},
   "outputs": [],
   "source": [
    "from pdfminer.pdfparser import PDFParser\n",
    "from pdfminer.pdfdocument import PDFDocument\n",
    "from pdfminer.pdfpage import PDFPage\n",
    "from pdfminer.pdfinterp import PDFResourceManager, PDFPageInterpreter\n",
    "from pdfminer.pdfdevice import PDFDevice\n",
    "from pdfminer.layout import LAParams\n",
    "from pdfminer.converter import  TextConverter\n",
    "import urllib2\n",
    "from urllib2 import Request\n",
    "import datetime\n",
    "import re\n",
    "import matplotlib.pyplot as plt\n",
    "import numpy as np"
   ]
  },
  {
   "cell_type": "code",
   "execution_count": 2,
   "metadata": {},
   "outputs": [],
   "source": [
    "def parsePDF(url):\n",
    "    # Open the url provided as an argument to the function and read the content\n",
    "    open = urllib2.urlopen(Request(url)).read()\n",
    "    from StringIO import StringIO\n",
    "    memory_file = StringIO(open)\n",
    "\n",
    "    # Create a PDF parser object related with the StringIO object\n",
    "    parser = PDFParser(memory_file)\n",
    "\n",
    "    #  Stores the document structure in a PDF document object\n",
    "    document = PDFDocument(parser)\n",
    "    # Define parameters to the PDF device objet \n",
    "    rsrcmgr = PDFResourceManager()\n",
    "    retstr = StringIO()\n",
    "    laparams = LAParams()\n",
    "    codec = 'utf-8'\n",
    "\n",
    "    # Create a PDF device object\n",
    "    device = TextConverter(rsrcmgr, retstr, codec = codec, laparams = laparams)\n",
    "\n",
    "    # Create a PDF interpreter object\n",
    "    interpreter = PDFPageInterpreter(rsrcmgr, device)\n",
    "\n",
    "    # Process each page contained in the document\n",
    "    for page in PDFPage.create_pages(document):\n",
    "        interpreter.process_page(page)\n",
    "        data =  retstr.getvalue()\n",
    "    # print data\n",
    "    # Get values for 'Iowa B100' prices (free to choose any element from the PDF) \n",
    "    reg = '\\d.\\d{2} - \\d.\\d{2}'\n",
    "    matches = re.findall(reg, data) # Our data are contained in matches[0]\n",
    "\n",
    "    # Compute the average\n",
    "    # Extract value from previous regex \n",
    "    low = re.search('\\d.\\d{2} -', matches[0])\n",
    "    high = re.search('- \\d.\\d{2}', matches[0])\n",
    "    # Cast string variables to float type\n",
    "    low_val = float(low.group(0).replace(' -',''))\n",
    "    high_val = float (high.group(0).replace('- ',''))\n",
    "\n",
    "    # Calculate the average\n",
    "    #import numpy\n",
    "    #value = [high_val, low_val]\n",
    "    #print value.mean\n",
    "    ave = (high_val + low_val) /2\n",
    "    # Search the date of the report \n",
    "    reg = '\\w{3},\\s\\w{3}\\s\\d{2},\\s\\d{4}'\n",
    "    match = re.search(reg, data)# Result is contained in matches[0]\n",
    "    dat = match.group(0)\n",
    "    \n",
    "    # Cast to date format\n",
    "    return(dat, ave)"
   ]
  },
  {
   "cell_type": "code",
   "execution_count": 3,
   "metadata": {},
   "outputs": [
    {
     "name": "stdout",
     "output_type": "stream",
     "text": [
      "Enter last weekly price bulletin date (dd/mm/yyyy): 06/07/2018\n",
      "How many weeks back in time: 5\n"
     ]
    }
   ],
   "source": [
    "\n",
    "# The date of the latest weekly price bulletin\n",
    "start_date = raw_input(\"Enter last weekly price bulletin date (dd/mm/yyyy): \")\n",
    "\n",
    "# Convert start_date string to Python date format\n",
    "dat = datetime.datetime.strptime(start_date,  '%d/%m/%Y')\n",
    "\n",
    "# Time series length\n",
    "back_weeks = raw_input(\"How many weeks back in time: \")\n"
   ]
  },
  {
   "cell_type": "code",
   "execution_count": 4,
   "metadata": {},
   "outputs": [
    {
     "name": "stdout",
     "output_type": "stream",
     "text": [
      "Date as read in PDF\tFormatted date\tValue\n",
      "Fri, Jul 06, 2018\t06/07/2018\t1.42\n",
      "Fri, Jun 29, 2018\t29/06/2018\t1.415\n",
      "Fri, Jun 22, 2018\t22/06/2018\t1.39\n",
      "Fri, Jun 15, 2018\t15/06/2018\t1.39\n",
      "Fri, Jun 08, 2018\t08/06/2018\t1.41\n"
     ]
    }
   ],
   "source": [
    "print 'Date as read in PDF' + '\\t' + 'Formatted date' + '\\t' + 'Value'\n",
    "res = 'Empty response'\n",
    "\n",
    "date_list = []\n",
    "value_list = []\n",
    "# Loop through the dates\n",
    "for weeks in xrange(0, int(back_weeks)):\n",
    "\n",
    "    # Basic exception handling mechamism\n",
    "    try:           \n",
    "        wk = datetime.timedelta(weeks = weeks)\n",
    "        date_back = dat - wk\n",
    "\n",
    "        # Construct the url\n",
    "        # example url : https://www.ams.usda.gov/mnreports/lswagenergy.pdf\n",
    "        url = 'http://search.ams.usda.gov/mndms/' + str(date_back.year) + \\\n",
    "              '/' + str(date_back.month).zfill(2) + '/LS' + str(date_back.year) + \\\n",
    "              str(date_back.month).zfill(2) + str(date_back.day).zfill(2) + \\\n",
    "              'WAGENERGY.PDF'\n",
    "        \n",
    "        # Call to function\n",
    "        fun =  parsePDF(url)\n",
    "        value_list.append(str(fun[1]))\n",
    "        date_list.append(fun[0])\n",
    "        \n",
    "        # Relevant information extraction\n",
    "        res = str(fun[0]) + '\\t' +  str(date_back.day).zfill(2) + '/' + \\\n",
    "              str(date_back.month).zfill(2) +  '/' + str(date_back.year) + \\\n",
    "              '\\t' + str(fun[1])\n",
    "\n",
    "    except Exception:\n",
    "        print 'NA\\t\\t\\t' +  str(date_back.day).zfill(2) + '/' + \\\n",
    "              str(date_back.month).zfill(2) +  '/' + str(date_back.year) + \\\n",
    "              '\\t' + 'NA'\n",
    "\n",
    "    # Output onto the screen\n",
    "    print res\n"
   ]
  },
  {
   "cell_type": "code",
   "execution_count": 5,
   "metadata": {},
   "outputs": [
    {
     "data": {
      "image/png": "[encoded data removed]",
      "text/plain": [
       "<matplotlib.figure.Figure at 0x7f7c37490b90>"
      ]
     },
     "metadata": {},
     "output_type": "display_data"
    }
   ],
   "source": [
    "plt.rcParams[\"figure.figsize\"] =(15,10)\n",
    "plt.xticks(range(int(back_weeks)), date_list)\n",
    "plt.plot(range(int(back_weeks)), value_list)\n",
    "plt.show()"
   ]
  },
  {
   "cell_type": "code",
   "execution_count": 6,
   "metadata": {},
   "outputs": [],
   "source": [
    "# Use above values on your own, to do the further predictions using regression or time-series analysis forecasting"
   ]
  }
 ],
 "metadata": {
  "kernelspec": {
   "display_name": "spi-django",
   "language": "python",
   "name": "spi-django"
  },
  "language_info": {
   "codemirror_mode": {
    "name": "ipython",
    "version": 2
   },
   "file_extension": ".py",
   "mimetype": "text/x-python",
   "name": "python",
   "nbconvert_exporter": "python",
   "pygments_lexer": "ipython2",
   "version": "2.7.12"
  }
 },
 "nbformat": 4,
 "nbformat_minor": 2
}
